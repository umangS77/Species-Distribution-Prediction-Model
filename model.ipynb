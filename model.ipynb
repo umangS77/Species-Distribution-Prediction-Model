{
 "cells": [
  {
   "cell_type": "code",
   "execution_count": 33,
   "metadata": {},
   "outputs": [
    {
     "name": "stdout",
     "output_type": "stream",
     "text": [
      "0      6.770146\n",
      "1      6.816389\n",
      "2      6.818278\n",
      "3      6.819140\n",
      "4      6.819419\n",
      "        ...    \n",
      "85    12.878333\n",
      "86    12.884694\n",
      "87    12.888806\n",
      "88    12.907989\n",
      "89    13.667667\n",
      "Name: latitude, Length: 90, dtype: float64\n"
     ]
    },
    {
     "ename": "ValueError",
     "evalue": "y should be a 1d array, got an array of shape (77, 4) instead.",
     "output_type": "error",
     "traceback": [
      "\u001b[0;31m---------------------------------------------------------------------------\u001b[0m",
      "\u001b[0;31mValueError\u001b[0m                                Traceback (most recent call last)",
      "\u001b[1;32m/Users/palashsharma/forgit/BTP/model.ipynb Cell 1'\u001b[0m in \u001b[0;36m<module>\u001b[0;34m\u001b[0m\n\u001b[1;32m     <a href='vscode-notebook-cell:/Users/palashsharma/forgit/BTP/model.ipynb#ch0000000?line=35'>36</a>\u001b[0m reg \u001b[39m=\u001b[39m linear_model\u001b[39m.\u001b[39mLogisticRegression(verbose\u001b[39m=\u001b[39m\u001b[39m1\u001b[39m)\n\u001b[1;32m     <a href='vscode-notebook-cell:/Users/palashsharma/forgit/BTP/model.ipynb#ch0000000?line=36'>37</a>\u001b[0m \u001b[39m# reg = linear_model.Lasso(alpha=alpha)\u001b[39;00m\n\u001b[1;32m     <a href='vscode-notebook-cell:/Users/palashsharma/forgit/BTP/model.ipynb#ch0000000?line=37'>38</a>\u001b[0m \u001b[39m# reg = linear_model.Ridge(alpha=alpha)\u001b[39;00m\n\u001b[0;32m---> <a href='vscode-notebook-cell:/Users/palashsharma/forgit/BTP/model.ipynb#ch0000000?line=38'>39</a>\u001b[0m temp \u001b[39m=\u001b[39m reg\u001b[39m.\u001b[39;49mfit(X_train, y_train)\n\u001b[1;32m     <a href='vscode-notebook-cell:/Users/palashsharma/forgit/BTP/model.ipynb#ch0000000?line=39'>40</a>\u001b[0m y_pred \u001b[39m=\u001b[39m reg\u001b[39m.\u001b[39mpredict(X_train)\n\u001b[1;32m     <a href='vscode-notebook-cell:/Users/palashsharma/forgit/BTP/model.ipynb#ch0000000?line=40'>41</a>\u001b[0m mse\u001b[39m.\u001b[39mappend(mean_squared_error(y_train, y_pred))\n",
      "File \u001b[0;32m~/miniforge3/envs/.cv0env/lib/python3.10/site-packages/sklearn/linear_model/_logistic.py:1508\u001b[0m, in \u001b[0;36mLogisticRegression.fit\u001b[0;34m(self, X, y, sample_weight)\u001b[0m\n\u001b[1;32m   <a href='file:///Users/palashsharma/miniforge3/envs/.cv0env/lib/python3.10/site-packages/sklearn/linear_model/_logistic.py?line=1504'>1505</a>\u001b[0m \u001b[39melse\u001b[39;00m:\n\u001b[1;32m   <a href='file:///Users/palashsharma/miniforge3/envs/.cv0env/lib/python3.10/site-packages/sklearn/linear_model/_logistic.py?line=1505'>1506</a>\u001b[0m     _dtype \u001b[39m=\u001b[39m [np\u001b[39m.\u001b[39mfloat64, np\u001b[39m.\u001b[39mfloat32]\n\u001b[0;32m-> <a href='file:///Users/palashsharma/miniforge3/envs/.cv0env/lib/python3.10/site-packages/sklearn/linear_model/_logistic.py?line=1507'>1508</a>\u001b[0m X, y \u001b[39m=\u001b[39m \u001b[39mself\u001b[39;49m\u001b[39m.\u001b[39;49m_validate_data(\n\u001b[1;32m   <a href='file:///Users/palashsharma/miniforge3/envs/.cv0env/lib/python3.10/site-packages/sklearn/linear_model/_logistic.py?line=1508'>1509</a>\u001b[0m     X,\n\u001b[1;32m   <a href='file:///Users/palashsharma/miniforge3/envs/.cv0env/lib/python3.10/site-packages/sklearn/linear_model/_logistic.py?line=1509'>1510</a>\u001b[0m     y,\n\u001b[1;32m   <a href='file:///Users/palashsharma/miniforge3/envs/.cv0env/lib/python3.10/site-packages/sklearn/linear_model/_logistic.py?line=1510'>1511</a>\u001b[0m     accept_sparse\u001b[39m=\u001b[39;49m\u001b[39m\"\u001b[39;49m\u001b[39mcsr\u001b[39;49m\u001b[39m\"\u001b[39;49m,\n\u001b[1;32m   <a href='file:///Users/palashsharma/miniforge3/envs/.cv0env/lib/python3.10/site-packages/sklearn/linear_model/_logistic.py?line=1511'>1512</a>\u001b[0m     dtype\u001b[39m=\u001b[39;49m_dtype,\n\u001b[1;32m   <a href='file:///Users/palashsharma/miniforge3/envs/.cv0env/lib/python3.10/site-packages/sklearn/linear_model/_logistic.py?line=1512'>1513</a>\u001b[0m     order\u001b[39m=\u001b[39;49m\u001b[39m\"\u001b[39;49m\u001b[39mC\u001b[39;49m\u001b[39m\"\u001b[39;49m,\n\u001b[1;32m   <a href='file:///Users/palashsharma/miniforge3/envs/.cv0env/lib/python3.10/site-packages/sklearn/linear_model/_logistic.py?line=1513'>1514</a>\u001b[0m     accept_large_sparse\u001b[39m=\u001b[39;49msolver \u001b[39mnot\u001b[39;49;00m \u001b[39min\u001b[39;49;00m [\u001b[39m\"\u001b[39;49m\u001b[39mliblinear\u001b[39;49m\u001b[39m\"\u001b[39;49m, \u001b[39m\"\u001b[39;49m\u001b[39msag\u001b[39;49m\u001b[39m\"\u001b[39;49m, \u001b[39m\"\u001b[39;49m\u001b[39msaga\u001b[39;49m\u001b[39m\"\u001b[39;49m],\n\u001b[1;32m   <a href='file:///Users/palashsharma/miniforge3/envs/.cv0env/lib/python3.10/site-packages/sklearn/linear_model/_logistic.py?line=1514'>1515</a>\u001b[0m )\n\u001b[1;32m   <a href='file:///Users/palashsharma/miniforge3/envs/.cv0env/lib/python3.10/site-packages/sklearn/linear_model/_logistic.py?line=1515'>1516</a>\u001b[0m check_classification_targets(y)\n\u001b[1;32m   <a href='file:///Users/palashsharma/miniforge3/envs/.cv0env/lib/python3.10/site-packages/sklearn/linear_model/_logistic.py?line=1516'>1517</a>\u001b[0m \u001b[39mself\u001b[39m\u001b[39m.\u001b[39mclasses_ \u001b[39m=\u001b[39m np\u001b[39m.\u001b[39munique(y)\n",
      "File \u001b[0;32m~/miniforge3/envs/.cv0env/lib/python3.10/site-packages/sklearn/base.py:581\u001b[0m, in \u001b[0;36mBaseEstimator._validate_data\u001b[0;34m(self, X, y, reset, validate_separately, **check_params)\u001b[0m\n\u001b[1;32m    <a href='file:///Users/palashsharma/miniforge3/envs/.cv0env/lib/python3.10/site-packages/sklearn/base.py?line=578'>579</a>\u001b[0m         y \u001b[39m=\u001b[39m check_array(y, \u001b[39m*\u001b[39m\u001b[39m*\u001b[39mcheck_y_params)\n\u001b[1;32m    <a href='file:///Users/palashsharma/miniforge3/envs/.cv0env/lib/python3.10/site-packages/sklearn/base.py?line=579'>580</a>\u001b[0m     \u001b[39melse\u001b[39;00m:\n\u001b[0;32m--> <a href='file:///Users/palashsharma/miniforge3/envs/.cv0env/lib/python3.10/site-packages/sklearn/base.py?line=580'>581</a>\u001b[0m         X, y \u001b[39m=\u001b[39m check_X_y(X, y, \u001b[39m*\u001b[39;49m\u001b[39m*\u001b[39;49mcheck_params)\n\u001b[1;32m    <a href='file:///Users/palashsharma/miniforge3/envs/.cv0env/lib/python3.10/site-packages/sklearn/base.py?line=581'>582</a>\u001b[0m     out \u001b[39m=\u001b[39m X, y\n\u001b[1;32m    <a href='file:///Users/palashsharma/miniforge3/envs/.cv0env/lib/python3.10/site-packages/sklearn/base.py?line=583'>584</a>\u001b[0m \u001b[39mif\u001b[39;00m \u001b[39mnot\u001b[39;00m no_val_X \u001b[39mand\u001b[39;00m check_params\u001b[39m.\u001b[39mget(\u001b[39m\"\u001b[39m\u001b[39mensure_2d\u001b[39m\u001b[39m\"\u001b[39m, \u001b[39mTrue\u001b[39;00m):\n",
      "File \u001b[0;32m~/miniforge3/envs/.cv0env/lib/python3.10/site-packages/sklearn/utils/validation.py:979\u001b[0m, in \u001b[0;36mcheck_X_y\u001b[0;34m(X, y, accept_sparse, accept_large_sparse, dtype, order, copy, force_all_finite, ensure_2d, allow_nd, multi_output, ensure_min_samples, ensure_min_features, y_numeric, estimator)\u001b[0m\n\u001b[1;32m    <a href='file:///Users/palashsharma/miniforge3/envs/.cv0env/lib/python3.10/site-packages/sklearn/utils/validation.py?line=961'>962</a>\u001b[0m     \u001b[39mraise\u001b[39;00m \u001b[39mValueError\u001b[39;00m(\u001b[39m\"\u001b[39m\u001b[39my cannot be None\u001b[39m\u001b[39m\"\u001b[39m)\n\u001b[1;32m    <a href='file:///Users/palashsharma/miniforge3/envs/.cv0env/lib/python3.10/site-packages/sklearn/utils/validation.py?line=963'>964</a>\u001b[0m X \u001b[39m=\u001b[39m check_array(\n\u001b[1;32m    <a href='file:///Users/palashsharma/miniforge3/envs/.cv0env/lib/python3.10/site-packages/sklearn/utils/validation.py?line=964'>965</a>\u001b[0m     X,\n\u001b[1;32m    <a href='file:///Users/palashsharma/miniforge3/envs/.cv0env/lib/python3.10/site-packages/sklearn/utils/validation.py?line=965'>966</a>\u001b[0m     accept_sparse\u001b[39m=\u001b[39maccept_sparse,\n\u001b[0;32m   (...)\u001b[0m\n\u001b[1;32m    <a href='file:///Users/palashsharma/miniforge3/envs/.cv0env/lib/python3.10/site-packages/sklearn/utils/validation.py?line=975'>976</a>\u001b[0m     estimator\u001b[39m=\u001b[39mestimator,\n\u001b[1;32m    <a href='file:///Users/palashsharma/miniforge3/envs/.cv0env/lib/python3.10/site-packages/sklearn/utils/validation.py?line=976'>977</a>\u001b[0m )\n\u001b[0;32m--> <a href='file:///Users/palashsharma/miniforge3/envs/.cv0env/lib/python3.10/site-packages/sklearn/utils/validation.py?line=978'>979</a>\u001b[0m y \u001b[39m=\u001b[39m _check_y(y, multi_output\u001b[39m=\u001b[39;49mmulti_output, y_numeric\u001b[39m=\u001b[39;49my_numeric)\n\u001b[1;32m    <a href='file:///Users/palashsharma/miniforge3/envs/.cv0env/lib/python3.10/site-packages/sklearn/utils/validation.py?line=980'>981</a>\u001b[0m check_consistent_length(X, y)\n\u001b[1;32m    <a href='file:///Users/palashsharma/miniforge3/envs/.cv0env/lib/python3.10/site-packages/sklearn/utils/validation.py?line=982'>983</a>\u001b[0m \u001b[39mreturn\u001b[39;00m X, y\n",
      "File \u001b[0;32m~/miniforge3/envs/.cv0env/lib/python3.10/site-packages/sklearn/utils/validation.py:993\u001b[0m, in \u001b[0;36m_check_y\u001b[0;34m(y, multi_output, y_numeric)\u001b[0m\n\u001b[1;32m    <a href='file:///Users/palashsharma/miniforge3/envs/.cv0env/lib/python3.10/site-packages/sklearn/utils/validation.py?line=988'>989</a>\u001b[0m     y \u001b[39m=\u001b[39m check_array(\n\u001b[1;32m    <a href='file:///Users/palashsharma/miniforge3/envs/.cv0env/lib/python3.10/site-packages/sklearn/utils/validation.py?line=989'>990</a>\u001b[0m         y, accept_sparse\u001b[39m=\u001b[39m\u001b[39m\"\u001b[39m\u001b[39mcsr\u001b[39m\u001b[39m\"\u001b[39m, force_all_finite\u001b[39m=\u001b[39m\u001b[39mTrue\u001b[39;00m, ensure_2d\u001b[39m=\u001b[39m\u001b[39mFalse\u001b[39;00m, dtype\u001b[39m=\u001b[39m\u001b[39mNone\u001b[39;00m\n\u001b[1;32m    <a href='file:///Users/palashsharma/miniforge3/envs/.cv0env/lib/python3.10/site-packages/sklearn/utils/validation.py?line=990'>991</a>\u001b[0m     )\n\u001b[1;32m    <a href='file:///Users/palashsharma/miniforge3/envs/.cv0env/lib/python3.10/site-packages/sklearn/utils/validation.py?line=991'>992</a>\u001b[0m \u001b[39melse\u001b[39;00m:\n\u001b[0;32m--> <a href='file:///Users/palashsharma/miniforge3/envs/.cv0env/lib/python3.10/site-packages/sklearn/utils/validation.py?line=992'>993</a>\u001b[0m     y \u001b[39m=\u001b[39m column_or_1d(y, warn\u001b[39m=\u001b[39;49m\u001b[39mTrue\u001b[39;49;00m)\n\u001b[1;32m    <a href='file:///Users/palashsharma/miniforge3/envs/.cv0env/lib/python3.10/site-packages/sklearn/utils/validation.py?line=993'>994</a>\u001b[0m     _assert_all_finite(y)\n\u001b[1;32m    <a href='file:///Users/palashsharma/miniforge3/envs/.cv0env/lib/python3.10/site-packages/sklearn/utils/validation.py?line=994'>995</a>\u001b[0m     _ensure_no_complex_data(y)\n",
      "File \u001b[0;32m~/miniforge3/envs/.cv0env/lib/python3.10/site-packages/sklearn/utils/validation.py:1038\u001b[0m, in \u001b[0;36mcolumn_or_1d\u001b[0;34m(y, warn)\u001b[0m\n\u001b[1;32m   <a href='file:///Users/palashsharma/miniforge3/envs/.cv0env/lib/python3.10/site-packages/sklearn/utils/validation.py?line=1028'>1029</a>\u001b[0m         warnings\u001b[39m.\u001b[39mwarn(\n\u001b[1;32m   <a href='file:///Users/palashsharma/miniforge3/envs/.cv0env/lib/python3.10/site-packages/sklearn/utils/validation.py?line=1029'>1030</a>\u001b[0m             \u001b[39m\"\u001b[39m\u001b[39mA column-vector y was passed when a 1d array was\u001b[39m\u001b[39m\"\u001b[39m\n\u001b[1;32m   <a href='file:///Users/palashsharma/miniforge3/envs/.cv0env/lib/python3.10/site-packages/sklearn/utils/validation.py?line=1030'>1031</a>\u001b[0m             \u001b[39m\"\u001b[39m\u001b[39m expected. Please change the shape of y to \u001b[39m\u001b[39m\"\u001b[39m\n\u001b[0;32m   (...)\u001b[0m\n\u001b[1;32m   <a href='file:///Users/palashsharma/miniforge3/envs/.cv0env/lib/python3.10/site-packages/sklearn/utils/validation.py?line=1033'>1034</a>\u001b[0m             stacklevel\u001b[39m=\u001b[39m\u001b[39m2\u001b[39m,\n\u001b[1;32m   <a href='file:///Users/palashsharma/miniforge3/envs/.cv0env/lib/python3.10/site-packages/sklearn/utils/validation.py?line=1034'>1035</a>\u001b[0m         )\n\u001b[1;32m   <a href='file:///Users/palashsharma/miniforge3/envs/.cv0env/lib/python3.10/site-packages/sklearn/utils/validation.py?line=1035'>1036</a>\u001b[0m     \u001b[39mreturn\u001b[39;00m np\u001b[39m.\u001b[39mravel(y)\n\u001b[0;32m-> <a href='file:///Users/palashsharma/miniforge3/envs/.cv0env/lib/python3.10/site-packages/sklearn/utils/validation.py?line=1037'>1038</a>\u001b[0m \u001b[39mraise\u001b[39;00m \u001b[39mValueError\u001b[39;00m(\n\u001b[1;32m   <a href='file:///Users/palashsharma/miniforge3/envs/.cv0env/lib/python3.10/site-packages/sklearn/utils/validation.py?line=1038'>1039</a>\u001b[0m     \u001b[39m\"\u001b[39m\u001b[39my should be a 1d array, got an array of shape \u001b[39m\u001b[39m{}\u001b[39;00m\u001b[39m instead.\u001b[39m\u001b[39m\"\u001b[39m\u001b[39m.\u001b[39mformat(shape)\n\u001b[1;32m   <a href='file:///Users/palashsharma/miniforge3/envs/.cv0env/lib/python3.10/site-packages/sklearn/utils/validation.py?line=1039'>1040</a>\u001b[0m )\n",
      "\u001b[0;31mValueError\u001b[0m: y should be a 1d array, got an array of shape (77, 4) instead."
     ]
    }
   ],
   "source": [
    "from sklearn import linear_model\n",
    "import json\n",
    "import numpy as np\n",
    "from sklearn.metrics import accuracy_score, mean_squared_error, mean_squared_log_error, average_precision_score\n",
    "from matplotlib import pyplot as plt\n",
    "import pandas as pd\n",
    "\n",
    "# data = pd.read_csv(\"finalData.csv\")\n",
    "# data[]\n",
    "\n",
    "with open('json_data.json', 'r') as file:\n",
    "    data = json.load(file)\n",
    "\n",
    "life_forms = ['S', 'H', 'T', 'C']\n",
    "\n",
    "X_train = []\n",
    "y_train = []\n",
    "for point in data:\n",
    "    temp1 = []\n",
    "    temp2 = []\n",
    "    temp1.append(point['latitude'])\n",
    "    temp1.append(point['longitude'])\n",
    "    for lifeform in life_forms:\n",
    "        if lifeform in point['lifeForm_count']:\n",
    "            temp2.append(point['lifeForm_count'][lifeform])\n",
    "        else:\n",
    "            temp2.append(0)\n",
    "    X_train.append(temp1)\n",
    "    y_train.append(temp2)\n",
    "\n",
    "# reg = linear_model.LinearRegression()\n",
    "mse = []\n",
    "x = np.arange(start = 0, stop = 1, step = 0.01)\n",
    "for alpha in x:\n",
    "    # reg = linear_model.ElasticNet(alpha=alpha)\n",
    "    reg = linear_model.LogisticRegression(verbose=1)\n",
    "    # reg = linear_model.Lasso(alpha=alpha)\n",
    "    # reg = linear_model.Ridge(alpha=alpha)\n",
    "    temp = reg.fit(X_train, y_train)\n",
    "    y_pred = reg.predict(X_train)\n",
    "    mse.append(mean_squared_error(y_train, y_pred))\n",
    "\n",
    "plt.plot(x, mse)\n",
    "plt.title(\"Lasso Regression\")\n",
    "plt.show()\n",
    "plt.savefig('Lasso Regression')"
   ]
  },
  {
   "cell_type": "code",
   "execution_count": 32,
   "metadata": {},
   "outputs": [],
   "source": [
    "mses = dict()\n",
    "mses['Lasso'] = mse"
   ]
  },
  {
   "cell_type": "code",
   "execution_count": null,
   "metadata": {},
   "outputs": [],
   "source": []
  }
 ],
 "metadata": {
  "interpreter": {
   "hash": "05846dba5a63881521995e4873c40bc366d65f96d65e5e13c55171c3c8697e3d"
  },
  "kernelspec": {
   "display_name": "Python 3.10.4 ('.cv0env')",
   "language": "python",
   "name": "python3"
  },
  "language_info": {
   "codemirror_mode": {
    "name": "ipython",
    "version": 3
   },
   "file_extension": ".py",
   "mimetype": "text/x-python",
   "name": "python",
   "nbconvert_exporter": "python",
   "pygments_lexer": "ipython3",
   "version": "3.10.4"
  },
  "orig_nbformat": 4
 },
 "nbformat": 4,
 "nbformat_minor": 2
}
