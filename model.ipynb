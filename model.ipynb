{
 "cells": [
  {
   "cell_type": "code",
   "execution_count": 23,
   "metadata": {},
   "outputs": [
    {
     "name": "stdout",
     "output_type": "stream",
     "text": [
      "{'S': 5, 'T': 50, 'C': 2, 'H': 3}\n",
      "{'T': 3, 'H': 1}\n",
      "{'H': 7, 'S': 5, 'T': 21, 'C': 8}\n",
      "{'H': 9, 'T': 37, 'C': 4, 'S': 4}\n",
      "{'T': 60, 'S': 13, 'C': 9, 'H': 3}\n",
      "{'T': 6}\n",
      "{'T': 2}\n",
      "{'T': 4}\n",
      "{'S': 7, 'T': 22, 'C': 5}\n",
      "{'T': 3}\n",
      "{'S': 2, 'T': 12, 'C': 1}\n",
      "{'S': 3, 'H': 2, 'T': 9, 'C': 1}\n",
      "{'H': 3, 'T': 16, 'S': 4, 'C': 10, 'NaN': 1}\n",
      "{'T': 11, 'C': 2, 'S': 4}\n",
      "{'T': 25, 'C': 1, 'H': 3}\n",
      "{'T': 18, 'S': 1, 'H': 1}\n",
      "{'T': 22, 'C': 1, 'S': 1}\n",
      "{'T': 22, 'S': 6}\n",
      "{'T': 12, 'S': 5, 'H': 1}\n",
      "{'T': 19, 'C': 2, 'H': 3, 'S': 1}\n",
      "{'T': 29, 'C': 3}\n",
      "{'S': 2, 'T': 24, 'H': 1}\n",
      "{'S': 7, 'T': 31, 'C': 2, 'H': 1}\n",
      "{'T': 5}\n",
      "{'S': 6, 'T': 48, 'H': 6}\n",
      "{'T': 25, 'S': 5}\n",
      "{'T': 23}\n",
      "{'S': 3, 'T': 28, 'C': 1}\n",
      "{'T': 13, 'H': 1, 'S': 1}\n",
      "{'H': 1, 'T': 4}\n",
      "{'S': 5, 'T': 13, 'H': 8, 'C': 1}\n",
      "{'T': 5}\n",
      "{'T': 36, 'S': 4, 'H': 1, 'C': 1}\n",
      "{'S': 1, 'T': 4}\n",
      "{'T': 28, 'S': 5, 'C': 1, 'H': 2}\n",
      "{'T': 3}\n",
      "{'T': 5}\n",
      "{'T': 6}\n",
      "{'S': 4, 'T': 27, 'C': 3, 'H': 5}\n",
      "{'T': 1}\n",
      "{'T': 29, 'C': 1, 'S': 1}\n",
      "{'T': 1}\n",
      "{'T': 1}\n",
      "{'T': 1}\n",
      "{'T': 1}\n",
      "{'T': 2}\n",
      "{'T': 1}\n",
      "{'T': 2}\n",
      "{'T': 3}\n",
      "{'S': 1, 'T': 22, 'H': 2, 'C': 1}\n",
      "{'T': 4}\n",
      "{'S': 1, 'T': 25, 'C': 3, 'H': 3}\n",
      "{'T': 10, 'H': 5, 'C': 1}\n",
      "{'T': 20}\n",
      "{'C': 2, 'S': 2, 'T': 4, 'H': 2}\n",
      "{'T': 3, 'H': 1}\n",
      "{'H': 3, 'T': 8, 'C': 1}\n",
      "{'S': 1, 'T': 1}\n",
      "{'T': 3}\n",
      "{'T': 2}\n",
      "{'T': 28, 'S': 1}\n",
      "{'S': 6, 'H': 4, 'T': 15, 'C': 6}\n",
      "{'T': 4}\n",
      "{'T': 4}\n",
      "{'S': 1, 'T': 6}\n",
      "{'T': 3}\n",
      "{'H': 1, 'S': 1, 'T': 4}\n",
      "{'T': 2}\n",
      "{'T': 1}\n",
      "{'T': 13, 'S': 3, 'C': 1}\n",
      "{'T': 2}\n",
      "{'T': 6}\n",
      "{'T': 4}\n",
      "{'S': 9, 'T': 15, 'H': 3}\n",
      "{'T': 5}\n",
      "{'T': 3}\n",
      "{'T': 1}\n"
     ]
    }
   ],
   "source": [
    "from sklearn import linear_model\n",
    "import json\n",
    "\n",
    "with open('json_data.json', 'r') as file:\n",
    "    data = json.load(file)\n",
    "\n",
    "life_forms = ['S', 'H', 'T', 'C']\n",
    "\n",
    "X_train = []\n",
    "y_train = []\n",
    "for point in data:\n",
    "    temp1 = []\n",
    "    temp2 = []\n",
    "    temp1.append(point['latitude'])\n",
    "    temp1.append(point['longitude'])\n",
    "    print(point['lifeForm_count'])\n",
    "    for lifeform in life_forms:\n",
    "        if lifeform in point['lifeForm_count']:\n",
    "            temp2.append(point['lifeForm_count'][lifeform])\n",
    "        else:\n",
    "            temp2.append(0)\n",
    "    X_train.append(temp1)\n",
    "    y_train.append(temp2)\n",
    "\n",
    "# reg = linear_model.Ridge(alpha=.5)\n",
    "# reg = linear_model.LinearRegression()\n",
    "# reg = linear_model.LogisticRegression(verbose=1)\n",
    "# reg = linear_model.Lasso()\n",
    "reg = linear_model.ElasticNet(alpha=.5)\n",
    "\n",
    "temp = reg.fit(X_train, y_train)\n",
    "reg.intercept_\n",
    "y_pred = reg.predict(X_train)\n"
   ]
  },
  {
   "cell_type": "code",
   "execution_count": 24,
   "metadata": {},
   "outputs": [
    {
     "name": "stdout",
     "output_type": "stream",
     "text": [
      "38.103695873074265\n"
     ]
    }
   ],
   "source": [
    "from sklearn.metrics import accuracy_score, mean_squared_error, mean_squared_log_error, average_precision_score\n",
    "# print(y_train, y_pred)\n",
    "# print(accuracy_score(y_train, y_pred))\n",
    "print(mean_squared_error(y_train, y_pred))\n",
    "# print(mean_squared_log_error(y_train, y_pred))\n",
    "# print(average_precision_score(y_train, y_pred))"
   ]
  }
 ],
 "metadata": {
  "interpreter": {
   "hash": "05846dba5a63881521995e4873c40bc366d65f96d65e5e13c55171c3c8697e3d"
  },
  "kernelspec": {
   "display_name": "Python 3.10.4 ('.cv0env')",
   "language": "python",
   "name": "python3"
  },
  "language_info": {
   "codemirror_mode": {
    "name": "ipython",
    "version": 3
   },
   "file_extension": ".py",
   "mimetype": "text/x-python",
   "name": "python",
   "nbconvert_exporter": "python",
   "pygments_lexer": "ipython3",
   "version": "3.10.4"
  },
  "orig_nbformat": 4
 },
 "nbformat": 4,
 "nbformat_minor": 2
}
